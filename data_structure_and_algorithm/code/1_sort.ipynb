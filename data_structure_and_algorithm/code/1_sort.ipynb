{
 "cells": [
  {
   "cell_type": "markdown",
   "metadata": {},
   "source": [
    "# ***I.Thuật Toán***"
   ]
  },
  {
   "cell_type": "markdown",
   "metadata": {},
   "source": [
    "## 1.Thuật toán là gì?"
   ]
  },
  {
   "cell_type": "markdown",
   "metadata": {},
   "source": [
    "+ Thuật toán là một tập hợp các bước hoặc quy tắc rõ ràng và được xác định trước nhằm giải quyết một vấn đề hoặc thực hiện một nhiệm vụ cụ thể."
   ]
  },
  {
   "cell_type": "markdown",
   "metadata": {},
   "source": [
    "## 2.Độ phức tạp của thuật toán là cách đánh giá hiệu quả của thuật toán dựa trên:"
   ]
  },
  {
   "cell_type": "markdown",
   "metadata": {},
   "source": [
    "+   Thời gian thực thi (Time Complexity): Thời gian cần để thuật toán hoàn thành, thường phụ thuộc vào kích thước đầu vào. "
   ]
  },
  {
   "cell_type": "markdown",
   "metadata": {},
   "source": [
    "+   Không gian sử dụng (Space Complexity): Lượng bộ nhớ cần để thực thi thuật toán."
   ]
  },
  {
   "cell_type": "markdown",
   "metadata": {},
   "source": [
    "# ***II.Các thuật toán sắp xếp***"
   ]
  },
  {
   "cell_type": "markdown",
   "metadata": {},
   "source": [
    "## 1.Sắp xếp nổi bọt(Buddle sort)"
   ]
  },
  {
   "cell_type": "code",
   "execution_count": 1,
   "metadata": {},
   "outputs": [
    {
     "name": "stdout",
     "output_type": "stream",
     "text": [
      "[-9, -2, 0, 11, 45]\n"
     ]
    }
   ],
   "source": [
    "def bubbleSort(a):\n",
    "  for i in range(len(a)):\n",
    "    for j in range(0, len(a) - i - 1):\n",
    "      if a[j] > a[j + 1]:\n",
    "        t = a[j]\n",
    "        a[j] = a[j+1]\n",
    "        a[j+1] = t\n",
    "a = [-2, 45, 0, 11, -9]\n",
    "bubbleSort(a)\n",
    "print(a)"
   ]
  },
  {
   "cell_type": "markdown",
   "metadata": {},
   "source": [
    "## 2.Sắp xếp chọn(Selection Sort)"
   ]
  },
  {
   "cell_type": "code",
   "execution_count": 2,
   "metadata": {},
   "outputs": [
    {
     "name": "stdout",
     "output_type": "stream",
     "text": [
      "[11, 12, 22, 25, 34, 64, 90]\n"
     ]
    }
   ],
   "source": [
    "def selection_sort(a):\n",
    "    n = len(a)\n",
    "    for i in range(n):\n",
    "        index = i\n",
    "        for j in range(i + 1, n):\n",
    "            if a[j] < a[index]:\n",
    "                index = j\n",
    "        a[i], a[index] = a[index], a[i]\n",
    "    return a\n",
    "a=[64, 34, 25, 12, 22, 11, 90]\n",
    "print(selection_sort(a))"
   ]
  },
  {
   "cell_type": "markdown",
   "metadata": {},
   "source": [
    "## *3.Sắp xếp chèn(Insertion Sort)*"
   ]
  },
  {
   "cell_type": "code",
   "execution_count": 4,
   "metadata": {},
   "outputs": [
    {
     "name": "stdout",
     "output_type": "stream",
     "text": [
      "[11, 12, 22, 25, 34, 64, 90]\n"
     ]
    }
   ],
   "source": [
    "def insertion_sort(a):\n",
    "    for i in range(1, len(a)):\n",
    "        t = a[i]\n",
    "        j = i - 1\n",
    "        while j >= 0 and a[j] > t:\n",
    "            a[j + 1] = a[j]\n",
    "            j -= 1\n",
    "        a[j + 1] = t\n",
    "    return a\n",
    "a=[64, 34, 25, 12, 22, 11, 90]\n",
    "print(insertion_sort(a))"
   ]
  },
  {
   "cell_type": "markdown",
   "metadata": {},
   "source": [
    "## *4.Sắp xếp trộn (Merge Sort)*"
   ]
  },
  {
   "cell_type": "code",
   "execution_count": 1,
   "metadata": {},
   "outputs": [
    {
     "name": "stdout",
     "output_type": "stream",
     "text": [
      "[11, 12, 22, 25, 34, 64, 90]\n"
     ]
    }
   ],
   "source": [
    "def merge_sort(a):\n",
    "    if len(a) > 1:\n",
    "        mid = len(a) // 2\n",
    "        trai = a[:mid]\n",
    "        phai = a[mid:]\n",
    "        merge_sort(trai)\n",
    "        merge_sort(phai)\n",
    "        i = j = k = 0\n",
    "        while i < len(trai) and j < len(phai):\n",
    "            if trai[i] < phai[j]:\n",
    "                a[k] = trai[i]\n",
    "                i += 1\n",
    "            else:\n",
    "                a[k] = phai[j]\n",
    "                j += 1\n",
    "            k += 1\n",
    "        while i < len(trai):\n",
    "            a[k] = trai[i]\n",
    "            i += 1\n",
    "            k += 1\n",
    "        \n",
    "        while j < len(phai):\n",
    "            a[k] = phai[j]\n",
    "            j += 1\n",
    "            k += 1\n",
    "    return a\n",
    "a=[64, 34, 25, 12, 22, 11, 90]\n",
    "print(merge_sort(a))"
   ]
  },
  {
   "cell_type": "markdown",
   "metadata": {},
   "source": [
    "## 5. Sắp xếp nhanh (Quick Sort)"
   ]
  },
  {
   "cell_type": "code",
   "execution_count": null,
   "metadata": {},
   "outputs": [
    {
     "name": "stdout",
     "output_type": "stream",
     "text": [
      "[11, 12, 22, 25, 34, 64, 90]\n"
     ]
    }
   ],
   "source": [
    "def quick_sort(a):\n",
    "    if len(a) <= 1:\n",
    "        return a\n",
    "    mid = a[len(a) // 2]\n",
    "    trai = [x for x in a if x < mid]\n",
    "    giua = [x for x in a if x == mid]\n",
    "    phai = [x for x in a if x > mid]\n",
    "    return quick_sort(trai) + giua + quick_sort(phai)\n",
    "a=[64, 34, 25, 12, 22, 11, 90]\n",
    "print(quick_sort(a))\n"
   ]
  },
  {
   "cell_type": "markdown",
   "metadata": {},
   "source": [
    "## 6.Sắp xếp bằng Heap (Heap Sort)"
   ]
  },
  {
   "cell_type": "code",
   "execution_count": 3,
   "metadata": {},
   "outputs": [
    {
     "name": "stdout",
     "output_type": "stream",
     "text": [
      "[11, 12, 22, 25, 34, 64, 90]\n"
     ]
    }
   ],
   "source": [
    "def heapify(arr, n, i):\n",
    "    max = i\n",
    "    trai = 2 * i + 1\n",
    "    phai = 2 * i + 2\n",
    "    if trai < n and arr[trai] > arr[max]:\n",
    "        max = trai\n",
    "    if phai < n and arr[phai] > arr[max]:\n",
    "        max = phai\n",
    "\n",
    "    if max != i:\n",
    "        arr[i], arr[max] = arr[max], arr[i]\n",
    "        heapify(arr, n, max)\n",
    "\n",
    "def heap_sort(a):\n",
    "    n = len(a)\n",
    "    for i in range(n // 2 - 1, -1, -1):\n",
    "        heapify(a, n, i)\n",
    "    \n",
    "    for i in range(n - 1, 0, -1):\n",
    "        a[i], a[0] = a[0], a[i]\n",
    "        heapify(a, i, 0)\n",
    "    return a\n",
    "a=[64, 34, 25, 12, 22, 11, 90]\n",
    "print(heap_sort(a))"
   ]
  },
  {
   "cell_type": "markdown",
   "metadata": {},
   "source": [
    "## 7. Sắp xếp đếm (Counting Sort)"
   ]
  },
  {
   "cell_type": "code",
   "execution_count": 4,
   "metadata": {},
   "outputs": [
    {
     "name": "stdout",
     "output_type": "stream",
     "text": [
      "[11, 12, 22, 25, 34, 64, 90]\n"
     ]
    }
   ],
   "source": [
    "def counting_sort(a):\n",
    "    Max = max(a)\n",
    "    cnt = [0] * (Max + 1)\n",
    "    for i in a:\n",
    "        cnt[i] += 1\n",
    "    res = []\n",
    "    for i, cnt in enumerate(cnt):\n",
    "        res.extend([i] * cnt)\n",
    "    return res\n",
    "a=[64, 34, 25, 12, 22, 11, 90]\n",
    "print(counting_sort(a))\n"
   ]
  },
  {
   "cell_type": "markdown",
   "metadata": {},
   "source": [
    "# ***III.So Sánh***"
   ]
  },
  {
   "cell_type": "markdown",
   "metadata": {},
   "source": [
    "| Thuật toán    | Ý tưởng chính                                         | Ưu Điểm                           |Nhược điểm| Độ phức tạp trung bình |Không gian phụ |\n",
    "|---------------|-------------------------------------------------------|-----------------------------------|----------|------------------------|----------------|\n",
    "| Bubble Sort   | So sánh và hoán đổi cặp liền kề                      | Đơn giản, dễ hiểu.                 |Hiệu suất kém trên danh sách lớn| O(n²)                 | O(1)          |\n",
    "| Selection Sort| Chọn phần tử nhỏ nhất và đưa về vị trí đúng           | Ít thao tác hoán đổi hơn          |Tốc độ vẫn chậm với danh sách lớn| O(n²)                 | O(1)          |\n",
    "| Insertion Sort| Chèn phần tử vào vị trí đúng trong danh sách con      |Hiệu quả trên danh sách nhỏ        |Hiệu suất kém trên danh sách lớn| O(n²)                 | O(1)          |\n",
    "| Merge Sort    | Chia nhỏ và trộn danh sách đã sắp xếp                |Hiệu quả trên danh sách lớn, ổn định|Sử dụng nhiều bộ nhớ hơn| O(n log n)            | O(n)          |\n",
    "| Quick Sort    | Phân chia danh sách dựa trên phần tử chốt (pivot)    | Hiệu suất cao                      |Hiệu suất kém với danh sách đã sắp xếp| O(n log n)          | O(log n)      |\n",
    "| Heap Sort     | Chuyển danh sách thành heap và sắp xếp               | Hiệu quả, không cần bộ nhớ bổ sung |Không ổn định| O(n log n)            | O(1)          |\n",
    "| Counting Sort | Đếm số lượng phần tử và sắp xếp theo số đếm          | Nhanh với danh sách có giá trị nhỏ |Chỉ hoạt động với số nguyên, tốn nhiều bộ nhớ với giá trị lớn| O(n + k)              | O(k)          |\n"
   ]
  }
 ],
 "metadata": {
  "kernelspec": {
   "display_name": "Python 3",
   "language": "python",
   "name": "python3"
  },
  "language_info": {
   "codemirror_mode": {
    "name": "ipython",
    "version": 3
   },
   "file_extension": ".py",
   "mimetype": "text/x-python",
   "name": "python",
   "nbconvert_exporter": "python",
   "pygments_lexer": "ipython3",
   "version": "3.10.11"
  }
 },
 "nbformat": 4,
 "nbformat_minor": 2
}
